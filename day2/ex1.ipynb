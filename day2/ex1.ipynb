{
 "cells": [
  {
   "cell_type": "markdown",
   "metadata": {},
   "source": [
    "## this is ex 1"
   ]
  },
  {
   "cell_type": "code",
   "execution_count": 121,
   "metadata": {},
   "outputs": [],
   "source": [
    "import pandas as pd\n",
    "import numpy as np\n",
    "import seaborn as sns\n",
    "import matplotlib.pyplot as plt\n",
    "\n",
    "df = pd.read_csv('dataset.csv')\n",
    "##read file data"
   ]
  },
  {
   "cell_type": "code",
   "execution_count": 122,
   "metadata": {},
   "outputs": [],
   "source": [
    "data_ex1 = {'2012':0,'2013':0}\n",
    "i = 2012\n",
    "while i < 2020:\n",
    "    data_ex1[str(i)] = 0\n",
    "    i += 1"
   ]
  },
  {
   "cell_type": "code",
   "execution_count": 123,
   "metadata": {},
   "outputs": [],
   "source": [
    "for i in range(len(df)):\n",
    "    if df['reg_name'][i] == \"Auvergne-Rhône-Alpes\" and df['tax_name'][i] == 'CVAE':\n",
    "        data_ex1[str(df['year'][i])] += df['amount'][i]"
   ]
  },
  {
   "cell_type": "code",
   "execution_count": 124,
   "metadata": {},
   "outputs": [
    {
     "name": "stdout",
     "output_type": "stream",
     "text": [
      "Auvergne - Rhone - Alpes CVAE tax :\n",
      "2012 -> 455556742.0 euros\n",
      "2013 -> 481429158.0 euros\n",
      "2014 -> 482256773.0 euros\n",
      "2015 -> 498635082.0 euros\n",
      "2016 -> 506545917.0 euros\n",
      "2017 -> 1060240622.0 euros\n",
      "2018 -> 1066617698.0 euros\n",
      "2019 -> 1136669837.0 euros\n"
     ]
    }
   ],
   "source": [
    "print (\"Auvergne - Rhone - Alpes CVAE tax :\")\n",
    "for i in (data_ex1):\n",
    "    print ((i), '->' ,(data_ex1[str(i)]), 'euros')"
   ]
  },
  {
   "cell_type": "code",
   "execution_count": 140,
   "metadata": {},
   "outputs": [
    {
     "name": "stdout",
     "output_type": "stream",
     "text": [
      "     year              reg_name             tax_name  \\\n",
      "119  2012  Auvergne-Rhône-Alpes  Charges financières   \n",
      "125  2012  Auvergne-Rhône-Alpes  Charges financières   \n",
      "295  2012  Auvergne-Rhône-Alpes                 CVAE   \n",
      "299  2012  Auvergne-Rhône-Alpes                 CVAE   \n",
      "470  2012  Auvergne-Rhône-Alpes   Frais de personnel   \n",
      "\n",
      "                                   reg_id  \\\n",
      "119  9e540192-ace7-425f-9987-aaf5ae031274   \n",
      "125  9e540192-ace7-425f-9987-aaf5ae031274   \n",
      "295  9e540192-ace7-425f-9987-aaf5ae031274   \n",
      "299  9e540192-ace7-425f-9987-aaf5ae031274   \n",
      "470  9e540192-ace7-425f-9987-aaf5ae031274   \n",
      "\n",
      "                                   tax_id        amount  \n",
      "119  08a0eb61-f98d-4b6d-ba03-0e3c118c5da5  4.987104e+07  \n",
      "125  08a0eb61-f98d-4b6d-ba03-0e3c118c5da5  2.638202e+07  \n",
      "295  7c85096d-d549-426d-939d-a2339f0814c6  3.973485e+08  \n",
      "299  7c85096d-d549-426d-939d-a2339f0814c6  5.820822e+07  \n",
      "470  04a8305c-316d-4ede-858b-21efef6aa957  2.313107e+08  \n"
     ]
    }
   ],
   "source": [
    "data_ex2 = df.sort_values(by = [\"year\", \"reg_name\"], ascending = True)\n",
    "print(data_ex2.head())"
   ]
  },
  {
   "cell_type": "code",
   "execution_count": 171,
   "metadata": {},
   "outputs": [
    {
     "name": "stdout",
     "output_type": "stream",
     "text": [
      "            amount\n",
      "2012  4.555567e+08\n",
      "2013  4.814292e+08\n",
      "2014  4.822568e+08\n",
      "2015  4.986351e+08\n",
      "2016  5.065459e+08\n",
      "2017  1.060241e+09\n",
      "2018  1.066618e+09\n",
      "2019  1.136670e+09\n"
     ]
    },
    {
     "data": {
      "image/png": "[encoded data removed]",
      "text/plain": [
       "<Figure size 360x360 with 1 Axes>"
      ]
     },
     "metadata": {},
     "output_type": "display_data"
    }
   ],
   "source": [
    "lis = {}\n",
    "lis['amount']= data_ex1\n",
    "date_list = pd.DataFrame(lis)\n",
    "sns.displot(x = 'amount', data = date_list)\n",
    "print(date_list)"
   ]
  },
  {
   "cell_type": "code",
   "execution_count": null,
   "metadata": {},
   "outputs": [],
   "source": []
  }
 ],
 "metadata": {
  "kernelspec": {
   "display_name": "Python 3",
   "language": "python",
   "name": "python3"
  },
  "language_info": {
   "codemirror_mode": {
    "name": "ipython",
    "version": 3
   },
   "file_extension": ".py",
   "mimetype": "text/x-python",
   "name": "python",
   "nbconvert_exporter": "python",
   "pygments_lexer": "ipython3",
   "version": "3.7.3"
  }
 },
 "nbformat": 4,
 "nbformat_minor": 2
}
