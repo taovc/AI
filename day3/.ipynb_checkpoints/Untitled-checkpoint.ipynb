{
 "cells": [
  {
   "cell_type": "code",
   "execution_count": 93,
   "metadata": {},
   "outputs": [
    {
     "name": "stdout",
     "output_type": "stream",
     "text": [
      "name: HUB [2020-2021] \n",
      "id: f917e7fe-a4a9-40d1-b3ba-87c6aa71ad44\n",
      "name: Paris - Tech1 - 2025 - Piscine C \n",
      "id: e9f0d366-1cf3-4398-b0b7-961aa964644e\n",
      "name: ZooHackathon2020 \n",
      "id: 19e96b6a-631c-487a-b522-57f65198a006\n",
      "name: Paris - Tech1 - 2025 - Modules \n",
      "id: 21586198-31d4-40e8-bb9c-8be39a34c012\n",
      "name: Paris - Tech1 - 2025 - Activités & Bureau \n",
      "id: 20eae86c-bde4-4cce-b0a5-11f6c8e0cdab\n",
      "name: EPITECH JAM \n",
      "id: f8c57b45-5fd2-47db-9a48-e50c780378b5\n",
      "name: Summer Camp - DATA IA #2021 \n",
      "id: c1995755-c035-4c13-bc82-6b65b5c1d206\n"
     ]
    }
   ],
   "source": [
    "import requests as rq\n",
    "import json\n",
    "\n",
    "def jprint(obj):\n",
    "    # create a formatted string of the Python JSON object\n",
    "    text = json.dumps(obj, sort_keys=True, indent=4)\n",
    "    print(text)\n",
    "\n",
    "auth = ''\n",
    "with open('auth', 'r') as f:\n",
    "    auth = f.read()\n",
    "\n",
    "header = {\"Authorization\":auth}\n",
    "url = 'https://graph.microsoft.com/beta/me/memberOf'\n",
    "r = rq.get(url, headers = header)\n",
    "reponse_dict = r.json()\n",
    "\n",
    "for i in reponse_dict['value']:\n",
    "    print('name:', i['displayName'],'\\nid:',i['id'])\n"
   ]
  },
  {
   "cell_type": "code",
   "execution_count": 101,
   "metadata": {},
   "outputs": [
    {
     "name": "stdout",
     "output_type": "stream",
     "text": [
      "HUB [2020-2021]\n",
      "f917e7fe-a4a9-40d1-b3ba-87c6aa71ad44\n",
      "Paris - Tech1 - 2025 - Piscine C\n",
      "e9f0d366-1cf3-4398-b0b7-961aa964644e\n",
      "ZooHackathon2020\n",
      "19e96b6a-631c-487a-b522-57f65198a006\n",
      "Paris - Tech1 - 2025 - Modules\n",
      "21586198-31d4-40e8-bb9c-8be39a34c012\n",
      "Paris - Tech1 - 2025 - Activités & Bureau\n",
      "20eae86c-bde4-4cce-b0a5-11f6c8e0cdab\n",
      "EPITECH JAM\n",
      "f8c57b45-5fd2-47db-9a48-e50c780378b5\n",
      "Summer Camp - DATA IA #2021\n",
      "c1995755-c035-4c13-bc82-6b65b5c1d206\n"
     ]
    }
   ],
   "source": [
    "def member_of():\n",
    "    data = {}\n",
    "    header = {\"Authorization\":auth}\n",
    "    url = 'https://graph.microsoft.com/beta/me/memberOf'\n",
    "    r = rq.get(url, headers = header)\n",
    "    reponse_dict = r.json()\n",
    "    for i in reponse_dict['value']:\n",
    "        #print('name:', i['displayName'],'\\nid:',i['id'])   \n",
    "        data[i['displayName']] = (i['id'])\n",
    "    return(data)\n",
    "\n",
    "teams = member_of()\n",
    "for name ,id in teams.items():\n",
    "    print(name)\n",
    "    print(id)\n"
   ]
  },
  {
   "cell_type": "code",
   "execution_count": 102,
   "metadata": {},
   "outputs": [
    {
     "name": "stdout",
     "output_type": "stream",
     "text": [
      "HUB [2020-2021]\n",
      "f917e7fe-a4a9-40d1-b3ba-87c6aa71ad44\n"
     ]
    }
   ],
   "source": [
    "def get_channels(team_id):\n",
    "    data = {}\n",
    "    header = {\"Authorization\":auth}\n",
    "    url = 'https://graph.microsoft.com/beta/me/memberOf'\n",
    "    r = rq.get(url, headers = header)\n",
    "    reponse_dict = r.json()\n",
    "    for i in reponse_dict['value']:\n",
    "        #print('name:', i['displayName'],'\\nid:',i['id'])   \n",
    "        if i['id'] == team_id:\n",
    "            data[i['displayName']] = team_id\n",
    "    return data\n",
    "channels = get_channels('f917e7fe-a4a9-40d1-b3ba-87c6aa71ad44')\n",
    "for channels,id in channels.items():\n",
    "    print(channels)\n",
    "    print(id)"
   ]
  },
  {
   "cell_type": "code",
   "execution_count": null,
   "metadata": {},
   "outputs": [],
   "source": []
  }
 ],
 "metadata": {
  "kernelspec": {
   "display_name": "Python 3",
   "language": "python",
   "name": "python3"
  },
  "language_info": {
   "codemirror_mode": {
    "name": "ipython",
    "version": 3
   },
   "file_extension": ".py",
   "mimetype": "text/x-python",
   "name": "python",
   "nbconvert_exporter": "python",
   "pygments_lexer": "ipython3",
   "version": "3.7.3"
  }
 },
 "nbformat": 4,
 "nbformat_minor": 2
}
